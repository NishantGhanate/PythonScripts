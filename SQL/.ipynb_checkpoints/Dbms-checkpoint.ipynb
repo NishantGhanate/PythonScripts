{
 "cells": [
  {
   "cell_type": "code",
   "execution_count": 2,
   "metadata": {},
   "outputs": [],
   "source": [
    "# importing module\n",
    "import sqlite3\n",
    "import os"
   ]
  },
  {
   "cell_type": "code",
   "execution_count": 6,
   "metadata": {},
   "outputs": [],
   "source": [
    "# current working Folder\n",
    "scriptDir = os.path.dirname(os.path.realpath('__file__'))\n",
    "# connecting to the database \n",
    "connection = sqlite3.connect(scriptDir + os.path.sep + \"myTable.db\")\n",
    "# cursor \n",
    "crsr = connection.cursor()\n",
    "\n",
    "# Q(1 & 3). Create Table & apply constraint NOT NULL & UNIQUE\n",
    "sql_command = \"\"\" CREATE TABLE Subjects (\n",
    "    ID INTEGER PRIMARY KEY  AUTOINCREMENT, \n",
    "    SubjectName varchar(255) NOT NULL UNIQUE,\n",
    "    SubjectHours varchar(255) NOT NULL\n",
    "); \"\"\"\n",
    "\n",
    "# execute the statement\n",
    "crsr.execute(sql_command)\n",
    "# To save the changes in the files. Never skip this. \n",
    "# If we skip this, nothing will be saved in the database.\n",
    "connection.commit()\n"
   ]
  },
  {
   "cell_type": "code",
   "execution_count": 7,
   "metadata": {},
   "outputs": [],
   "source": [
    "sql_command = \"\"\"INSERT INTO Subjects VALUES (NULL,\"Machine Learning\", \"100\");\"\"\"\n",
    "crsr.execute(sql_command)\n",
    "connection.commit()"
   ]
  },
  {
   "cell_type": "code",
   "execution_count": 8,
   "metadata": {},
   "outputs": [
    {
     "name": "stdout",
     "output_type": "stream",
     "text": [
      "(1, 'Machine Learning', '100')\n"
     ]
    }
   ],
   "source": [
    "crsr.execute(\"SELECT * FROM Subjects\") \n",
    " \n",
    "# store all the fetched data in the ans variable\n",
    "ans = crsr.fetchall() \n",
    " \n",
    "# loop to print all the data\n",
    "for i in ans:\n",
    "    print(i)"
   ]
  },
  {
   "cell_type": "code",
   "execution_count": 9,
   "metadata": {},
   "outputs": [],
   "source": [
    "#(Q.4) Alter already existing table name\n",
    "\n",
    "sql_command = \"\"\" Alter table Subjects rename to Subjects_details; \"\"\"\n",
    "crsr.execute(sql_command)\n",
    "connection.commit()\n"
   ]
  },
  {
   "cell_type": "code",
   "execution_count": 10,
   "metadata": {},
   "outputs": [
    {
     "name": "stdout",
     "output_type": "stream",
     "text": [
      "(1, 'Machine Learning', '100')\n"
     ]
    }
   ],
   "source": [
    "crsr.execute(\"SELECT * FROM Subjects_details\") \n",
    "ans = crsr.fetchall() \n",
    "for i in ans:\n",
    "    print(i)"
   ]
  },
  {
   "cell_type": "code",
   "execution_count": 11,
   "metadata": {},
   "outputs": [],
   "source": [
    "#(Q.4) Update using where clause\n",
    "\n",
    "sql_command = \"\"\" UPDATE  Subjects_details SET SubjectHours = '120' WHERE  SubjectName = 'Machine Learning' ; \"\"\"\n",
    "crsr.execute(sql_command)\n",
    "connection.commit()\n"
   ]
  },
  {
   "cell_type": "code",
   "execution_count": 12,
   "metadata": {},
   "outputs": [
    {
     "name": "stdout",
     "output_type": "stream",
     "text": [
      "(1, 'Machine Learning', '120')\n"
     ]
    }
   ],
   "source": [
    "crsr.execute(\"SELECT * FROM Subjects_details\") \n",
    "ans = crsr.fetchall() \n",
    "for i in ans:\n",
    "    print(i)"
   ]
  },
  {
   "cell_type": "code",
   "execution_count": 14,
   "metadata": {},
   "outputs": [],
   "source": [
    "sql_command = \"\"\"INSERT INTO Subjects_details VALUES (NULL,\"Network Security\", \"80\");\"\"\"\n",
    "crsr.execute(sql_command)\n",
    "\n",
    "sql_command = \"\"\"INSERT INTO Subjects_details VALUES (NULL,\"Python Programming\", \"90\");\"\"\"\n",
    "crsr.execute(sql_command)\n",
    "\n",
    "sql_command = \"\"\"INSERT INTO Subjects_details VALUES (NULL,\"Software Enterprise\", \"50\");\"\"\"\n",
    "crsr.execute(sql_command)\n",
    "\n",
    "sql_command = \"\"\"INSERT INTO Subjects_details VALUES (NULL,\"API\", \"50\");\"\"\"\n",
    "crsr.execute(sql_command)\n",
    "\n",
    "connection.commit()\n"
   ]
  },
  {
   "cell_type": "code",
   "execution_count": 15,
   "metadata": {},
   "outputs": [
    {
     "name": "stdout",
     "output_type": "stream",
     "text": [
      "(1, 'Machine Learning', '120')\n",
      "(2, 'Network Security', '80')\n",
      "(3, 'Python Programming', '90')\n",
      "(4, 'Software Enterprise', '50')\n",
      "(5, 'API', '50')\n"
     ]
    }
   ],
   "source": [
    "crsr.execute(\"SELECT * FROM Subjects_details\") \n",
    "ans = crsr.fetchall() \n",
    "for i in ans:\n",
    "    print(i)"
   ]
  },
  {
   "cell_type": "code",
   "execution_count": 22,
   "metadata": {},
   "outputs": [
    {
     "name": "stdout",
     "output_type": "stream",
     "text": [
      "(1, 'Machine Learning', '120')\n",
      "(4, 'Software Enterprise', '50')\n",
      "(5, 'API', '50')\n"
     ]
    }
   ],
   "source": [
    "# (Q.7) Create Views'\n",
    "\n",
    "crsr.execute ( \"\"\" \n",
    "\n",
    "CREATE VIEW [Subject_H] AS\n",
    "SELECT ID, SubjectName , SubjectHours\n",
    "FROM Subjects_details\n",
    "WHERE SubjectHours <  '80' ; \"\"\")\n",
    "\n",
    "crsr.execute(\" SELECT * FROM [Subject_H]; \") \n",
    "\n",
    "\n",
    "ans = crsr.fetchall() \n",
    "for i in ans:\n",
    "    print(i)\n",
    "\n"
   ]
  },
  {
   "cell_type": "code",
   "execution_count": 23,
   "metadata": {},
   "outputs": [
    {
     "name": "stdout",
     "output_type": "stream",
     "text": [
      "(5, 'API', '50')\n",
      "(1, 'Machine Learning', '120')\n",
      "(2, 'Network Security', '80')\n",
      "(3, 'Python Programming', '90')\n",
      "(4, 'Software Enterprise', '50')\n"
     ]
    }
   ],
   "source": [
    "# (Q.8) ORDER BY , ASC|DESC\n",
    "\n",
    "crsr.execute(\"SELECT * FROM Subjects_details ORDER BY SubjectName ASC\")\n",
    "ans = crsr.fetchall() \n",
    "for i in ans:\n",
    "    print(i)"
   ]
  },
  {
   "cell_type": "code",
   "execution_count": 26,
   "metadata": {},
   "outputs": [
    {
     "name": "stdout",
     "output_type": "stream",
     "text": [
      "(4, 'Software Enterprise', '50')\n",
      "(3, 'Python Programming', '90')\n",
      "(2, 'Network Security', '80')\n",
      "(1, 'Machine Learning', '120')\n",
      "(5, 'API', '50')\n"
     ]
    }
   ],
   "source": [
    "crsr.execute(\"SELECT * FROM Subjects_details ORDER BY SubjectName DESC\")\n",
    "ans = crsr.fetchall() \n",
    "for i in ans:\n",
    "    print(i)"
   ]
  },
  {
   "cell_type": "code",
   "execution_count": 27,
   "metadata": {
    "scrolled": true
   },
   "outputs": [
    {
     "name": "stdout",
     "output_type": "stream",
     "text": [
      "(1, 'API')\n",
      "(1, 'Machine Learning')\n",
      "(1, 'Network Security')\n",
      "(1, 'Python Programming')\n",
      "(1, 'Software Enterprise')\n"
     ]
    }
   ],
   "source": [
    "# (Q.9) GROUP BY \n",
    "# The GROUP BY statement is often used with aggregate functions\n",
    "# (COUNT, MAX, MIN, SUM, AVG) to group the result-set by one or more columns.\n",
    "\n",
    "crsr.execute(\"SELECT COUNT(SubjectHours) , SubjectName FROM Subjects_details GROUP BY SubjectName\")\n",
    "ans = crsr.fetchall() \n",
    "for i in ans:\n",
    "    print(i)"
   ]
  },
  {
   "cell_type": "code",
   "execution_count": null,
   "metadata": {},
   "outputs": [],
   "source": [
    "\n",
    "\n"
   ]
  }
 ],
 "metadata": {
  "kernelspec": {
   "display_name": "Python 3",
   "language": "python",
   "name": "python3"
  },
  "language_info": {
   "codemirror_mode": {
    "name": "ipython",
    "version": 3
   },
   "file_extension": ".py",
   "mimetype": "text/x-python",
   "name": "python",
   "nbconvert_exporter": "python",
   "pygments_lexer": "ipython3",
   "version": "3.6.5"
  }
 },
 "nbformat": 4,
 "nbformat_minor": 2
}
