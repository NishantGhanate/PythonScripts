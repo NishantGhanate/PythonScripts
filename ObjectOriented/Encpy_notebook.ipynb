{
 "cells": [
  {
   "cell_type": "code",
   "execution_count": 39,
   "metadata": {},
   "outputs": [],
   "source": [
    "#conda install -c conda-forge jupyterthemes\n",
    "\n",
    "class Encpy:\n",
    "\n",
    "    def encrpyt(self,key,msg):\n",
    "        encrpyted = []\n",
    "        print('Encrpyting.....')\n",
    "        for i , m in enumerate(msg):\n",
    "            #print(i,m)\n",
    "            # ord returns asccii\n",
    "            key_c = ord(key[i%len(key)])\n",
    "            #print(key_c)\n",
    "            msg_c = ord(m)\n",
    "            encrpyted.append(chr((msg_c + key_c) % 127) )        \n",
    "        return ''.join(encrpyted)\n",
    "    \n",
    "    def decrypt(self,key,msg):\n",
    "        print('Decrpyting')\n",
    "        decrypted = []\n",
    "        for i , m in enumerate(msg):\n",
    "            key_c = ord(key[i%len(key)])\n",
    "            enc_c = ord(m)\n",
    "            decrypted.append(chr((enc_c - key_c)%127))\n",
    "            print(decrypted)\n",
    "        return ''.join(decrypted)"
   ]
  },
  {
   "cell_type": "code",
   "execution_count": 40,
   "metadata": {},
   "outputs": [
    {
     "name": "stdout",
     "output_type": "stream",
     "text": [
      "Please enter your key : Nishant\n",
      "Please enter your msg  : Ghanate\n"
     ]
    }
   ],
   "source": [
    "encpy = Encpy()\n",
    "key = str(input(\"Please enter your key : \"))\n",
    "msg = str(input(\"Please enter your msg  : \"))"
   ]
  },
  {
   "cell_type": "code",
   "execution_count": 41,
   "metadata": {},
   "outputs": [
    {
     "name": "stdout",
     "output_type": "stream",
     "text": [
      "Encrpyting.....\n",
      "\u0016RUWCcZ\n"
     ]
    }
   ],
   "source": [
    "\n",
    "finalE = encpy.encrpyt(key,msg)\n",
    "print(finalE)"
   ]
  },
  {
   "cell_type": "code",
   "execution_count": 42,
   "metadata": {},
   "outputs": [
    {
     "name": "stdout",
     "output_type": "stream",
     "text": [
      "Decrpyting\n",
      "['G']\n",
      "['G', 'h']\n",
      "['G', 'h', 'a']\n",
      "['G', 'h', 'a', 'n']\n",
      "['G', 'h', 'a', 'n', 'a']\n",
      "['G', 'h', 'a', 'n', 'a', 't']\n",
      "['G', 'h', 'a', 'n', 'a', 't', 'e']\n",
      "Ghanate\n"
     ]
    }
   ],
   "source": [
    "finalD = encpy.decrypt(key,finalE)\n",
    "print(finalD)\n"
   ]
  },
  {
   "cell_type": "code",
   "execution_count": null,
   "metadata": {},
   "outputs": [],
   "source": []
  }
 ],
 "metadata": {
  "kernelspec": {
   "display_name": "Python 3",
   "language": "python",
   "name": "python3"
  },
  "language_info": {
   "codemirror_mode": {
    "name": "ipython",
    "version": 3
   },
   "file_extension": ".py",
   "mimetype": "text/x-python",
   "name": "python",
   "nbconvert_exporter": "python",
   "pygments_lexer": "ipython3",
   "version": "3.6.5"
  }
 },
 "nbformat": 4,
 "nbformat_minor": 2
}
