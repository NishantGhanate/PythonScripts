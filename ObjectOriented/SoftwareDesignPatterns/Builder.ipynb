{
 "cells": [
  {
   "cell_type": "code",
   "execution_count": 4,
   "metadata": {},
   "outputs": [],
   "source": [
    "class Pizza(object):\n",
    "\n",
    "    def __init__(self):\n",
    "        self.toppings = []\n",
    "        self.base_type = None\n",
    "    \n",
    "    def add_topping(self, topping):\n",
    "        self.toppings.append(topping)\n",
    "        return self\n",
    "\n",
    "    def select_base(self, base_type):\n",
    "        self.base_type = base_type\n",
    "        return self\n",
    "    \n",
    "    def build(self):\n",
    "        return {\n",
    "            'toppings' : self.toppings,\n",
    "            'base_type' : self.base_type\n",
    "        }"
   ]
  },
  {
   "cell_type": "code",
   "execution_count": 5,
   "metadata": {},
   "outputs": [
    {
     "name": "stdout",
     "output_type": "stream",
     "text": [
      "{'toppings': ['onion'], 'base_type': 'medium crust'}\n"
     ]
    }
   ],
   "source": [
    "pizaa = Pizza()\n",
    "my_pizza = pizaa.select_base('medium crust').add_topping('onion').build()\n",
    "print(my_pizza)"
   ]
  },
  {
   "cell_type": "code",
   "execution_count": 6,
   "metadata": {},
   "outputs": [
    {
     "name": "stdout",
     "output_type": "stream",
     "text": [
      "<__main__.Pizza object at 0x000001997B0D5E40>\n"
     ]
    }
   ],
   "source": [
    "pizaa = Pizza()\n",
    "my_pizza = pizaa.select_base('medium crust').add_topping('onion').add_topping('olives')\n",
    "print(my_pizza)"
   ]
  }
 ],
 "metadata": {
  "interpreter": {
   "hash": "62b8e38797574a9de3c3f9bc79729bb88e3b9c6776c95587f79be5c56a9bdc90"
  },
  "kernelspec": {
   "display_name": "Python 3.10.0 64-bit",
   "language": "python",
   "name": "python3"
  },
  "language_info": {
   "codemirror_mode": {
    "name": "ipython",
    "version": 3
   },
   "file_extension": ".py",
   "mimetype": "text/x-python",
   "name": "python",
   "nbconvert_exporter": "python",
   "pygments_lexer": "ipython3",
   "version": "3.10.0"
  },
  "orig_nbformat": 4
 },
 "nbformat": 4,
 "nbformat_minor": 2
}
