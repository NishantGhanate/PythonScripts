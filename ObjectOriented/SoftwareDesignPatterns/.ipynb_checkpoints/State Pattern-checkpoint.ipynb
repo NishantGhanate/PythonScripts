{
 "cells": [
  {
   "cell_type": "markdown",
   "metadata": {},
   "source": [
    "<h3>State pattern</h3>"
   ]
  },
  {
   "cell_type": "code",
   "execution_count": 7,
   "metadata": {},
   "outputs": [],
   "source": [
    "# Declaring General State Class which will be inherted by Specialzed Class\n",
    "\n",
    "class ComputerState(object):\n",
    "    # There a Three state of computer OFF , ON , HIBERNATE (Aka : SLEEP)\n",
    "    # Each State Has a 1 to 3 process that it can allow  \n",
    "    # e.g If computer is OFF is can allow only ON State \n",
    "    name = \"state\"\n",
    "    allowed = []\n",
    "    \n",
    "    def switch(self,state):\n",
    "        \"\"\" Switch and validate to new state \"\"\"\n",
    "        if state.name in self.allowed:\n",
    "            print(' Current State : {} ,  Switched to new state : {} ' . format(self,state.name))\n",
    "            # Creates new instance level by no. of state\n",
    "            self.__class__ = state\n",
    "        else:\n",
    "            print('Current State :{} , Not possible : {}' . format(self,state.name)) \n",
    "            \n",
    "    # Returning String \n",
    "    def __str__(self):\n",
    "        return self.name\n",
    "        "
   ]
  },
  {
   "cell_type": "code",
   "execution_count": 8,
   "metadata": {},
   "outputs": [],
   "source": [
    "# Inheriting ComputerState General Class into Specialized Class\n",
    "\n",
    "class Off(ComputerState):\n",
    "    name = \"off\"\n",
    "    allowed = ['on']\n",
    "    \n",
    "class On(ComputerState):\n",
    "    # State of being powered on and working\n",
    "    name = \"on\"\n",
    "    allowed = ['off','suspend','hibernate']\n",
    "            \n",
    "class Sleep(ComputerState):\n",
    "    # tate of being in hibernation after powered on \n",
    "    name = \"sleep\"\n",
    "    allowed = ['on']\n",
    "   "
   ]
  },
  {
   "cell_type": "code",
   "execution_count": 9,
   "metadata": {},
   "outputs": [],
   "source": [
    "class Computer(object):\n",
    "    # A class representing a computer\n",
    "    def __init__(self, model='HP'):\n",
    "        self.model = model\n",
    "        # State of the computer - default is off.\n",
    "        self.state = Off()\n",
    "        \n",
    "    def change(self, state):\n",
    "     # Change state of Computer \n",
    "      self.state.switch(state)"
   ]
  },
  {
   "cell_type": "code",
   "execution_count": 10,
   "metadata": {},
   "outputs": [
    {
     "name": "stdout",
     "output_type": "stream",
     "text": [
      " Current State : off ,  Switched to new state : on \n"
     ]
    }
   ],
   "source": [
    "if __name__ == \"__main__\":\n",
    "    \n",
    "    comp = Computer()\n",
    "    comp.change(On)\n",
    "   \n",
    "    "
   ]
  },
  {
   "cell_type": "code",
   "execution_count": 11,
   "metadata": {},
   "outputs": [
    {
     "name": "stdout",
     "output_type": "stream",
     "text": [
      " Current State : on ,  Switched to new state : off \n"
     ]
    }
   ],
   "source": [
    " comp.change(Off)"
   ]
  },
  {
   "cell_type": "code",
   "execution_count": 12,
   "metadata": {},
   "outputs": [
    {
     "name": "stdout",
     "output_type": "stream",
     "text": [
      "Current State :off , Not possible : sleep\n"
     ]
    }
   ],
   "source": [
    "comp.change(Sleep)"
   ]
  }
 ],
 "metadata": {
  "kernelspec": {
   "display_name": "Python 3",
   "language": "python",
   "name": "python3"
  },
  "language_info": {
   "codemirror_mode": {
    "name": "ipython",
    "version": 3
   },
   "file_extension": ".py",
   "mimetype": "text/x-python",
   "name": "python",
   "nbconvert_exporter": "python",
   "pygments_lexer": "ipython3",
   "version": "3.6.3"
  }
 },
 "nbformat": 4,
 "nbformat_minor": 2
}
